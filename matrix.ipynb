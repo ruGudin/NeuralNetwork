{
 "cells": [
  {
   "cell_type": "markdown",
   "metadata": {},
   "source": [
    "# Основы *линейной алгебры*\n",
    "## Работа с векторами и матрицами"
   ]
  },
  {
   "cell_type": "code",
   "execution_count": 57,
   "metadata": {},
   "outputs": [],
   "source": [
    "import numpy as np\n",
    "import random as rand\n",
    "import scipy.linalg as lp"
   ]
  },
  {
   "cell_type": "code",
   "execution_count": 58,
   "metadata": {},
   "outputs": [
    {
     "name": "stdout",
     "output_type": "stream",
     "text": [
      "[1, 2, 3, 4, 5]\n",
      "[[1, 2, 3], [4, 5, 6], [7, 8, 9]]\n"
     ]
    }
   ],
   "source": [
    "empty_list = [] # создание пустого списка (медленный)\n",
    "base_list_zeroes = [0] * 5 # создание списка заполненного нулями\n",
    "base_list1 = [1, 2, 3, 4, 5]\n",
    "base_list2 = [[1,2,3], [4,5,6], [7,8,9]]\n",
    "\n",
    "print(base_list1)\n",
    "print(base_list2)"
   ]
  },
  {
   "cell_type": "code",
   "execution_count": 59,
   "metadata": {},
   "outputs": [
    {
     "name": "stdout",
     "output_type": "stream",
     "text": [
      "1\n",
      "4\n",
      "9\n",
      "16\n",
      "25\n",
      " \n",
      "[0.8414709848078965, 0.9092974268256817, 0.1411200080598672, -0.7568024953079282, -0.9589242746631385]\n"
     ]
    },
    {
     "data": {
      "text/plain": [
       "[0.8414709848078965,\n",
       " 0.9092974268256817,\n",
       " 0.1411200080598672,\n",
       " -0.7568024953079282,\n",
       " -0.9589242746631385]"
      ]
     },
     "execution_count": 59,
     "metadata": {},
     "output_type": "execute_result"
    }
   ],
   "source": [
    "def f1(x):\n",
    "    return x*x\n",
    "\n",
    "projection_map = map(f1, base_list1)\n",
    "for i in projection_map:\n",
    "    print(i)\n",
    "print(\" \")\n",
    "projection_list = list(map(np.sin, base_list1))\n",
    "print(projection_list)\n",
    "\n",
    "projection_list_lamda = list(map(lambda x: x*x, base_list1))\n",
    "projection_list"
   ]
  },
  {
   "cell_type": "code",
   "execution_count": 60,
   "metadata": {},
   "outputs": [
    {
     "name": "stdout",
     "output_type": "stream",
     "text": [
      "[1 2 3 4 5]\n",
      " \n",
      "[[1 2 3 4 5]\n",
      " [1 2 3 4 5]\n",
      " [1 2 3 4 5]]\n",
      " \n",
      "[1 3 5 7 9]\n",
      " \n",
      "[ 1.          2.28571429  3.57142857  4.85714286  6.14285714  7.42857143\n",
      "  8.71428571 10.        ]\n"
     ]
    }
   ],
   "source": [
    "XX = np.array([1,2,3,4,5])\n",
    "print(XX)\n",
    "print(\" \")\n",
    "YY = np.array([[1,2,3,4,5], [1,2,3,4,5], [1,2,3,4,5]])\n",
    "print(YY)\n",
    "print(\" \")\n",
    "AA = np.arange(1, 10, 2)\n",
    "print(AA)\n",
    "print(\" \")\n",
    "ZZ = np.linspace(1, 10, 8)\n",
    "print(ZZ)"
   ]
  },
  {
   "cell_type": "markdown",
   "metadata": {},
   "source": [
    "## Алгебра матриц"
   ]
  },
  {
   "cell_type": "markdown",
   "metadata": {},
   "source": [
    "### Умножение матрицы на ветор"
   ]
  },
  {
   "cell_type": "code",
   "execution_count": 61,
   "metadata": {},
   "outputs": [
    {
     "data": {
      "text/plain": [
       "[14, 32, 50]"
      ]
     },
     "execution_count": 61,
     "metadata": {},
     "output_type": "execute_result"
    }
   ],
   "source": [
    "def Matrix2Vector(A, a):\n",
    "    A = np.array(A)\n",
    "    n,m = np.shape(A) # раскладываем кортеж\n",
    "    b = [0] * n\n",
    "    for i in range(0, n): # Для всех строк матрицы рассчитываем ячейки вектора результата\n",
    "        semi = 0\n",
    "        for j in range(0, n): # Номер элемента в строке\n",
    "            semi += A[i][j] * a[j]\n",
    "        b[i] = semi\n",
    "    return b\n",
    "\n",
    "pow_res = Matrix2Vector(base_list2, base_list1)\n",
    "pow_res\n",
    "    \n"
   ]
  },
  {
   "cell_type": "markdown",
   "metadata": {},
   "source": [
    "## Транспонирование матрицы"
   ]
  },
  {
   "cell_type": "code",
   "execution_count": 62,
   "metadata": {},
   "outputs": [
    {
     "data": {
      "text/plain": [
       "array([[1, 4, 7],\n",
       "       [2, 5, 8],\n",
       "       [3, 6, 9]])"
      ]
     },
     "execution_count": 62,
     "metadata": {},
     "output_type": "execute_result"
    }
   ],
   "source": [
    "def Transpose(A):\n",
    "    A = np.array(A)\n",
    "    B = np.array(A)\n",
    "    n,m = np.shape(A)\n",
    "\n",
    "    \n",
    "    for i in range(0, n):\n",
    "        for j in range(0, m):\n",
    "            B[j][i] = A[i][j]\n",
    "\n",
    "    return B\n",
    "\n",
    "base_transposed = Transpose(base_list2)\n",
    "base_transposed"
   ]
  },
  {
   "cell_type": "markdown",
   "metadata": {},
   "source": [
    "## Умножение матрицы на матрицу"
   ]
  },
  {
   "cell_type": "code",
   "execution_count": 64,
   "metadata": {},
   "outputs": [
    {
     "data": {
      "text/plain": [
       "array([[ 14,  32,  50],\n",
       "       [ 32,  77, 122],\n",
       "       [ 50, 122, 194]])"
      ]
     },
     "execution_count": 64,
     "metadata": {},
     "output_type": "execute_result"
    }
   ],
   "source": [
    "def Matrix2Matrix(A, B):\n",
    "    la = np.shape(A)\n",
    "    lb = np.shape(B)\n",
    "\n",
    "    C = []\n",
    "    for i in range(0, lb[1]):\n",
    "        C.append([0] * la[0])\n",
    "\n",
    "    for i in range(0, la[0]):\n",
    "        for j in range(0, lb[1]):\n",
    "            semi = 0\n",
    "            for k in range(0, la[1]):\n",
    "                semi += A[i][k] * B[k][j]\n",
    "            C[i][j] = semi\n",
    "            \n",
    "    return np.array(C)\n",
    "\n",
    "A = np.array([[1,2,3], [4,5,6], [7,8,9]])\n",
    "C = Matrix2Matrix(A, A.T)\n",
    "C"
   ]
  },
  {
   "cell_type": "code",
   "execution_count": 66,
   "metadata": {},
   "outputs": [],
   "source": [
    "def Triangle(A):\n",
    "    M = np.array(A)\n",
    "    n, m = np.shape(A)\n",
    "\n",
    "    d = 1\n",
    "    rank = min(n, m)\n",
    "\n",
    "    # треугольный вид \n",
    "    # обработать случай когда на главной диагонали нули\n",
    "    # обратная матрица\n",
    "\n",
    "    return M, d, rank"
   ]
  },
  {
   "cell_type": "code",
   "execution_count": null,
   "metadata": {},
   "outputs": [],
   "source": []
  }
 ],
 "metadata": {
  "kernelspec": {
   "display_name": "Python 3",
   "language": "python",
   "name": "python3"
  },
  "language_info": {
   "codemirror_mode": {
    "name": "ipython",
    "version": 3
   },
   "file_extension": ".py",
   "mimetype": "text/x-python",
   "name": "python",
   "nbconvert_exporter": "python",
   "pygments_lexer": "ipython3",
   "version": "3.12.1"
  }
 },
 "nbformat": 4,
 "nbformat_minor": 2
}
