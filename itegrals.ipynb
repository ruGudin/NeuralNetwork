{
 "cells": [
  {
   "cell_type": "markdown",
   "metadata": {},
   "source": [
    "# Численное интегрирование \n",
    "Методы:\n",
    " - Метод прямоугольника\n",
    " - Метод трапеций"
   ]
  },
  {
   "cell_type": "code",
   "execution_count": 78,
   "metadata": {},
   "outputs": [],
   "source": [
    "import numpy as np\n",
    "import matplotlib.pyplot as plt\n",
    "import pandas as pd"
   ]
  },
  {
   "cell_type": "markdown",
   "metadata": {},
   "source": [
    "## Объявление переменных"
   ]
  },
  {
   "cell_type": "code",
   "execution_count": 79,
   "metadata": {},
   "outputs": [
    {
     "name": "stdout",
     "output_type": "stream",
     "text": [
      "a = 0\n",
      "b = 1\n",
      "dx = 0.001\n"
     ]
    }
   ],
   "source": [
    "a = 0\n",
    "b = 1\n",
    "dx = 0.001\n",
    "expect_int = 1\n",
    "\n",
    "print(\"a =\", a)\n",
    "print(\"b =\", b)\n",
    "print(\"dx =\", dx)"
   ]
  },
  {
   "cell_type": "markdown",
   "metadata": {},
   "source": [
    "## Определение интегрируемой функции\n",
    "$$f(x) = 3\\cdot x^2$$"
   ]
  },
  {
   "cell_type": "code",
   "execution_count": 80,
   "metadata": {},
   "outputs": [],
   "source": [
    "def F(x):\n",
    "    return 3 * x ** 2"
   ]
  },
  {
   "cell_type": "code",
   "execution_count": 81,
   "metadata": {},
   "outputs": [
    {
     "data": {
      "text/plain": [
       "[<matplotlib.lines.Line2D at 0x21f62da84a0>]"
      ]
     },
     "execution_count": 81,
     "metadata": {},
     "output_type": "execute_result"
    },
    {
     "data": {
      "image/png": "[encoded data removed]",
      "text/plain": [
       "<Figure size 640x480 with 1 Axes>"
      ]
     },
     "metadata": {},
     "output_type": "display_data"
    }
   ],
   "source": [
    "XX = np.arange(a, b + dx, dx)\n",
    "YY = F(XX)\n",
    "\n",
    "plt.plot(XX, YY)"
   ]
  },
  {
   "cell_type": "markdown",
   "metadata": {},
   "source": [
    "## Метод прямоугольников"
   ]
  },
  {
   "cell_type": "code",
   "execution_count": 82,
   "metadata": {},
   "outputs": [],
   "source": [
    "def IntegralRect(a, b, dx, f):\n",
    "    S = 0\n",
    "    n = (b+dx - a) / dx\n",
    "\n",
    "    while(a < b):\n",
    "        S += f(a)\n",
    "        a += dx\n",
    "\n",
    "    return S * dx, n"
   ]
  },
  {
   "cell_type": "code",
   "execution_count": 83,
   "metadata": {},
   "outputs": [],
   "source": [
    "i_rect, n_rect = IntegralRect(a, b-dx, dx, F)"
   ]
  },
  {
   "cell_type": "code",
   "execution_count": 84,
   "metadata": {},
   "outputs": [
    {
     "name": "stdout",
     "output_type": "stream",
     "text": [
      "Результат вычислений: 0.9955064970000016\n",
      "Уровень ошибки: 0.0044935029999984\n",
      "Количество итераций: 1000.0\n"
     ]
    }
   ],
   "source": [
    "err_rect = abs(expect_int - i_rect)\n",
    "\n",
    "print(\"Результат вычислений:\", i_rect)\n",
    "print(\"Уровень ошибки:\", err_rect)\n",
    "print(\"Количество итераций:\", n_rect)"
   ]
  },
  {
   "cell_type": "markdown",
   "metadata": {},
   "source": [
    "## Метод трапеции"
   ]
  },
  {
   "cell_type": "code",
   "execution_count": 85,
   "metadata": {},
   "outputs": [],
   "source": [
    "def IntegralTrap(a, b, dx, f):\n",
    "    S = 0\n",
    "    n = (b+dx - a) / dx\n",
    "    y1=f(a)\n",
    "    a+=dx\n",
    "\n",
    "    while(a < b):\n",
    "        y2=f(a)\n",
    "        S += y1+y2\n",
    "        a+=dx\n",
    "        y1=y2\n",
    "\n",
    "    return S, n\n",
    "\n"
   ]
  },
  {
   "cell_type": "code",
   "execution_count": 86,
   "metadata": {},
   "outputs": [],
   "source": [
    "i_rect, n_rect = IntegralTrap(a, b-dx, dx, F)"
   ]
  },
  {
   "cell_type": "code",
   "execution_count": 87,
   "metadata": {},
   "outputs": [
    {
     "name": "stdout",
     "output_type": "stream",
     "text": [
      "Результат вычислений: 1988.0249820000045\n",
      "Уровень ошибки: 1987.0249820000045\n",
      "Количество итераций: 1000.0\n"
     ]
    }
   ],
   "source": [
    "err_rect = abs(expect_int - i_rect)\n",
    "\n",
    "print(\"Результат вычислений:\", i_rect)\n",
    "print(\"Уровень ошибки:\", err_rect)\n",
    "print(\"Количество итераций:\", n_rect)"
   ]
  }
 ],
 "metadata": {
  "kernelspec": {
   "display_name": "Python 3",
   "language": "python",
   "name": "python3"
  },
  "language_info": {
   "codemirror_mode": {
    "name": "ipython",
    "version": 3
   },
   "file_extension": ".py",
   "mimetype": "text/x-python",
   "name": "python",
   "nbconvert_exporter": "python",
   "pygments_lexer": "ipython3",
   "version": "3.12.1"
  }
 },
 "nbformat": 4,
 "nbformat_minor": 2
}
