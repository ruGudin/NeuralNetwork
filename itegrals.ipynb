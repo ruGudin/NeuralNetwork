{
 "cells": [
  {
   "cell_type": "markdown",
   "metadata": {},
   "source": [
    "# Численное интегрирование \n",
    "Методы:\n",
    " - Метод прямоугольника\n",
    " - Метод трапеций"
   ]
  },
  {
   "cell_type": "code",
   "execution_count": 1,
   "metadata": {},
   "outputs": [],
   "source": [
    "import numpy as np\n",
    "import matplotlib.pyplot as plt\n",
    "import pandas as pd"
   ]
  },
  {
   "cell_type": "markdown",
   "metadata": {},
   "source": [
    "## Объявление переменных"
   ]
  },
  {
   "cell_type": "code",
   "execution_count": 2,
   "metadata": {},
   "outputs": [
    {
     "name": "stdout",
     "output_type": "stream",
     "text": [
      "a = 0\n",
      "b = 1\n",
      "dx = 0.0001\n"
     ]
    }
   ],
   "source": [
    "a = 0\n",
    "b = 1\n",
    "dx = 0.0001\n",
    "expect_int = 1\n",
    "\n",
    "print(\"a =\", a)\n",
    "print(\"b =\", b)\n",
    "print(\"dx =\", dx)"
   ]
  },
  {
   "cell_type": "markdown",
   "metadata": {},
   "source": [
    "## Определение интегрируемой функции\n",
    "$$f(x) = 3\\cdot x^2$$"
   ]
  },
  {
   "cell_type": "code",
   "execution_count": 3,
   "metadata": {},
   "outputs": [],
   "source": [
    "def F(x):\n",
    "    return 3 * x ** 2"
   ]
  },
  {
   "cell_type": "code",
   "execution_count": 4,
   "metadata": {},
   "outputs": [
    {
     "data": {
      "text/plain": [
       "[<matplotlib.lines.Line2D at 0x7f34ecbc3250>]"
      ]
     },
     "execution_count": 4,
     "metadata": {},
     "output_type": "execute_result"
    },
    {
     "data": {
      "image/png": "[encoded data removed]",
      "text/plain": [
       "<Figure size 640x480 with 1 Axes>"
      ]
     },
     "metadata": {},
     "output_type": "display_data"
    }
   ],
   "source": [
    "XX = np.arange(a, b + dx, dx)\n",
    "YY = F(XX)\n",
    "\n",
    "plt.plot(XX, YY)"
   ]
  },
  {
   "cell_type": "markdown",
   "metadata": {},
   "source": [
    "## Метод прямоугольников"
   ]
  },
  {
   "cell_type": "code",
   "execution_count": 5,
   "metadata": {},
   "outputs": [],
   "source": [
    "def IntegralRect(a, b, dx, f):\n",
    "    S = 0\n",
    "    n = 0\n",
    "\n",
    "    while a < b:\n",
    "        S += f(a)\n",
    "        a += dx\n",
    "        n += 1\n",
    "\n",
    "    return S * dx, n"
   ]
  },
  {
   "cell_type": "code",
   "execution_count": 6,
   "metadata": {},
   "outputs": [],
   "source": [
    "i_rect, n_rect = IntegralRect(a, b, dx, F)"
   ]
  },
  {
   "cell_type": "code",
   "execution_count": 7,
   "metadata": {},
   "outputs": [
    {
     "name": "stdout",
     "output_type": "stream",
     "text": [
      "Результат вычислений: 1.0001500049998275\n",
      "Уровень ошибки: 0.015000499982753546 %\n",
      "Количество итераций: 10001\n"
     ]
    }
   ],
   "source": [
    "err_rect = abs(expect_int - i_rect)\n",
    "\n",
    "print(\"Результат вычислений:\", i_rect)\n",
    "print(\"Уровень ошибки:\", err_rect * 100, \"%\")\n",
    "print(\"Количество итераций:\", n_rect)"
   ]
  },
  {
   "cell_type": "markdown",
   "metadata": {},
   "source": [
    "## Метод трапеции"
   ]
  },
  {
   "cell_type": "code",
   "execution_count": 8,
   "metadata": {},
   "outputs": [],
   "source": [
    "def IntegralTrap(a, b, dx, f):\n",
    "    n=abs((a-b-dx)/dx)\n",
    "    res=0\n",
    "    while a < b:\n",
    "        res+=dx*(f(a)+f(a+dx))/2\n",
    "        a+=dx\n",
    "    return res, n"
   ]
  },
  {
   "cell_type": "code",
   "execution_count": 9,
   "metadata": {},
   "outputs": [],
   "source": [
    "i_rect, n_rect = IntegralTrap(a, b-dx, dx, F)"
   ]
  },
  {
   "cell_type": "code",
   "execution_count": 10,
   "metadata": {},
   "outputs": [
    {
     "name": "stdout",
     "output_type": "stream",
     "text": [
      "Результат вычислений: 1.000000004999828\n",
      "Уровень ошибки: 4.999828107088433e-07 %\n",
      "Количество итераций: 10000.0\n"
     ]
    }
   ],
   "source": [
    "err_rect = abs(expect_int - i_rect)\n",
    "\n",
    "print(\"Результат вычислений:\", i_rect)\n",
    "print(\"Уровень ошибки:\", err_rect * 100, \"%\")\n",
    "print(\"Количество итераций:\", n_rect)"
   ]
  },
  {
   "cell_type": "markdown",
   "metadata": {},
   "source": [
    "## Уровень ошибки в зависимости от количества итераций"
   ]
  },
  {
   "cell_type": "code",
   "execution_count": 11,
   "metadata": {},
   "outputs": [
    {
     "name": "stdout",
     "output_type": "stream",
     "text": [
      "[0.01, 0.001, 0.0001, 1e-05, 1.0000000000000002e-06, 1.0000000000000002e-07, 1.0000000000000002e-08]\n",
      "[4.435299999999886, 0.44935029999984, 0.014999500017254253, 0.001499995188536385, 0.000449999198659512, 1.5029248745523915e-05, 4.246115159478592e-06] [99, 999, 10000, 100000, 999999, 10000000, 99999999]\n"
     ]
    }
   ],
   "source": [
    "counter = 0.1\n",
    "DX = [0] * 7\n",
    "for i in range(7):\n",
    "    DX[i] = counter / 10\n",
    "    counter /= 10\n",
    "    \n",
    "print(DX)\n",
    "\n",
    "vec_res_rect = [0] * 7\n",
    "vec_n_rect = [0] * 7\n",
    "for i in range(7):\n",
    "    res, vec_n_rect[i] = IntegralRect(a, b-DX[i], DX[i], F)\n",
    "    vec_res_rect[i] = abs(expect_int - res) * 100\n",
    "\n",
    "print(vec_res_rect, vec_n_rect)"
   ]
  },
  {
   "cell_type": "code",
   "execution_count": 12,
   "metadata": {},
   "outputs": [
    {
     "name": "stdout",
     "output_type": "stream",
     "text": [
      "[10, 100, 1000, 10000, 100000, 1000000, 10000000, 100000000]\n",
      "[14.500000000000002, 1.4949999999998798, 0.14994999999984326, 0.014999500017309764, 0.0014999951880700912, 0.00014999980056940032, 1.502926292307194e-05, 1.2461257359319688e-06]\n",
      "[0.49999999999998934, 0.005000000000121574, 5.000000007360228e-05, 4.999828107088433e-07, 4.810507547858833e-09, 1.992850329202156e-10, 2.9250024624616344e-08, 2.5387794089226645e-07]\n"
     ]
    },
    {
     "data": {
      "text/plain": [
       "[<matplotlib.lines.Line2D at 0x7f350d924850>,\n",
       " <matplotlib.lines.Line2D at 0x7f34e14e8710>]"
      ]
     },
     "execution_count": 12,
     "metadata": {},
     "output_type": "execute_result"
    },
    {
     "data": {
      "image/png": "[encoded data removed]",
      "text/plain": [
       "<Figure size 640x480 with 1 Axes>"
      ]
     },
     "metadata": {},
     "output_type": "display_data"
    }
   ],
   "source": [
    "#метод прямоугольников\n",
    "def rect_integral(f,xmin,xmax,n):\n",
    "    dx=(xmax-xmin)/n\n",
    "    area=0\n",
    "    x=xmin\n",
    "    for i in range(n):\n",
    "        area+=dx*f(x)\n",
    "        x+=dx\n",
    "    return area\n",
    "\n",
    "#метод трапеций\n",
    "def tr_integral(f,xmin,xmax,n):\n",
    "    dx=(xmax-xmin)/n\n",
    "    area=0\n",
    "    x=xmin\n",
    "    for i in range(n):\n",
    "        area+=dx*(f(x)+f(x+dx))/2\n",
    "        x+=dx\n",
    "    return area\n",
    "\n",
    "counter = 1\n",
    "NN = [0] * 8\n",
    "for i in range(8):\n",
    "    NN[i] = counter * 10\n",
    "    counter *= 10\n",
    "    \n",
    "vec_res_rect = [0] * 8\n",
    "vec_res_tr = [0] * 8\n",
    "for i in range(8):\n",
    "    res_rect = rect_integral(F, a, b, NN[i])\n",
    "    vec_res_rect[i] = abs(expect_int - res_rect) * 100\n",
    "    \n",
    "    res_tr = tr_integral(F, a, b, NN[i])\n",
    "    vec_res_tr[i] = abs(expect_int - res_tr) * 100\n",
    "    \n",
    "print(NN)\n",
    "print(vec_res_rect)\n",
    "print(vec_res_tr)\n",
    "\n",
    "plt.plot(NN, vec_res_rect, vec_res_tr)\n"
   ]
  }
 ],
 "metadata": {
  "kernelspec": {
   "display_name": "Python 3",
   "language": "python",
   "name": "python3"
  },
  "language_info": {
   "codemirror_mode": {
    "name": "ipython",
    "version": 3
   },
   "file_extension": ".py",
   "mimetype": "text/x-python",
   "name": "python",
   "nbconvert_exporter": "python",
   "pygments_lexer": "ipython3",
   "version": "3.11.9"
  }
 },
 "nbformat": 4,
 "nbformat_minor": 2
}
