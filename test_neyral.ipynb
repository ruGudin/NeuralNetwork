{
 "cells": [
  {
   "cell_type": "code",
   "execution_count": 336,
   "metadata": {},
   "outputs": [],
   "source": [
    "import numpy as np\n",
    "import random as rand\n",
    "import scipy.linalg as lp"
   ]
  },
  {
   "cell_type": "code",
   "execution_count": 337,
   "metadata": {},
   "outputs": [],
   "source": [
    "def f(u):\n",
    "    return 1 / (1 + np.exp(-u))\n",
    "\n",
    "def f1(u):\n",
    "    return f(u)\n",
    "\n",
    "def Y(X, W, O, func):\n",
    "    return func(W@X+O)"
   ]
  },
  {
   "cell_type": "code",
   "execution_count": 338,
   "metadata": {},
   "outputs": [
    {
     "name": "stdout",
     "output_type": "stream",
     "text": [
      "XX= [[0]\n",
      " [1]] \n",
      "\n",
      "WW1= [[ 1.   0.5]\n",
      " [-1.   2. ]] \n",
      "\n",
      "WW2= [ 1.5 -1. ] \n",
      "\n",
      "OO1= [[1]\n",
      " [1]] \n",
      "\n",
      "OO2= [1] \n",
      "\n",
      "\n",
      "UU1= [[1.5]\n",
      " [3. ]] \n",
      "\n",
      "YY1= [[0.81757448]\n",
      " [0.95257413]] \n",
      "\n",
      "\n",
      "UU1= [1.27378759] \n",
      "\n",
      "YY1= [0.78139043] \n",
      "\n"
     ]
    }
   ],
   "source": [
    "XX = np.array([[0],\n",
    "               [1]])\n",
    "WW1 = np.array([[1.0, 0.5], \n",
    "                [-1.0, 2.0]])\n",
    "WW2 = np.array([1.5, -1])\n",
    "OO1 = np.array([[1],\n",
    "                [1]])\n",
    "OO2 = np.array([1])\n",
    "\n",
    "print(\"XX=\", XX, \"\\n\")\n",
    "print(\"WW1=\", WW1, \"\\n\")\n",
    "print(\"WW2=\", WW2, \"\\n\")\n",
    "print(\"OO1=\", OO1, \"\\n\")\n",
    "print(\"OO2=\", OO2, \"\\n\")\n",
    "\n",
    "UU1 = np.dot(WW1,XX) + OO1\n",
    "print(\"\\nUU1=\", UU1, \"\\n\")\n",
    "YY1 = f(UU1)\n",
    "print(\"YY1=\", YY1, \"\\n\")\n",
    "\n",
    "UU2 = np.dot(WW2, YY1) + OO2\n",
    "print(\"\\nUU1=\", UU2, \"\\n\")\n",
    "YY2 = f(UU2)\n",
    "print(\"YY1=\", YY2, \"\\n\")\n"
   ]
  },
  {
   "cell_type": "code",
   "execution_count": 351,
   "metadata": {},
   "outputs": [
    {
     "name": "stdout",
     "output_type": "stream",
     "text": [
      "[<function f at 0x000001E1C2C02840>, array([[0.54835402, 0.43438843],\n",
      "       [0.6602736 , 0.39072173]]), array([[1.],\n",
      "       [1.]]), array([[1.],\n",
      "       [1.]]), array([[1.],\n",
      "       [1.]])]\n",
      "\n",
      "\n",
      "[<function f at 0x000001E1C2C02840>, array([[0.32927051, 0.95446369]]), array([[1.]]), array([[1.]]), array([[1.]])]\n",
      "\n",
      "\n"
     ]
    }
   ],
   "source": [
    "def Topology(InpCount, NeurCount, func): # Количество входов, список из количества нейронов в каждом слое (количество слоев --- длина списка), спискок функций для каждого слоя (пока одна функция)\n",
    "    #[{f1, W1, O1, X1, Y1}, {f2, W2, O2, X2, Y2}, ....]\n",
    "    topology = []\n",
    "    for i in range(len(NeurCount)):\n",
    "        WW = np.random.rand(NeurCount[i], InpCount)\n",
    "        OO = np.ones((NeurCount[i],1))\n",
    "        XX = np.ones((NeurCount[i],1))\n",
    "        YY = np.ones((NeurCount[i],1))\n",
    "        topology.append([func, WW, OO, XX, YY])\n",
    "    \n",
    "    return topology\n",
    "    \n",
    "    # print(OO)\n",
    "    # W = [] + [np.random.randn(i-1, i) for i in range(1, len(NeuronsCount))]\n",
    "    # print(W)\n",
    "    # O = [np.ones((NeuronsCount[)) for i in range(len(NeuronsCount))]\n",
    "\n",
    "res = Topology(2, [2,1], f)\n",
    "\n",
    "for i in range(len(res)):\n",
    "    print(res[i])\n",
    "    print(\"\\n\")\n",
    "\n",
    "\n",
    "def Topology(Inp, NN):\n",
    "    seed = 13\n",
    "    topology = []\n",
    "    for i in range(len(NN)):\n",
    "        WW = np.random.rand(NN[i], Inp)\n",
    "        OO = np.ones((NeurCount[i],1))\n",
    "        XX = np.ones((NeurCount[i],1))\n",
    "        YY = np.ones((NeurCount[i],1))\n",
    "        topology.append([func, WW, OO, XX, YY])\n",
    "    \n",
    "    return topology\n",
    "    \n",
    "#Должна вернуть список кортежей вида [{f, W1, O1, Y1}, {f, W2, O2, Y2}, ....]\n",
    "# W - random -1 до 1\n",
    "# O - единицы\n",
    "# X, Y - забить нулями"
   ]
  },
  {
   "cell_type": "code",
   "execution_count": 340,
   "metadata": {},
   "outputs": [],
   "source": [
    "def TestGirl(XX):\n",
    "    WW1 = np.array([[3.281, 3.661, -3.682], \n",
    "                [-1.425, -3.18, 0.248]])\n",
    "    WW2 = np.array([9.97, -1.537])\n",
    "    OO1 = np.array([[-0.13],\n",
    "                [1.336]])\n",
    "    OO2 = np.array([-3.783])\n",
    "\n",
    "    # print(\"XX=\", XX, \"\\n\")\n",
    "    # print(\"WW1=\", WW1, \"\\n\")\n",
    "    # print(\"WW2=\", WW2, \"\\n\")\n",
    "    # print(\"OO1=\", OO1, \"\\n\")\n",
    "    # print(\"OO2=\", OO2, \"\\n\")\n",
    "\n",
    "    UU1 = np.dot(WW1,XX) + OO1\n",
    "    # print(\"\\nUU1=\", UU1, \"\\n\")\n",
    "    YY1 = f(UU1)\n",
    "    # print(\"YY1=\", YY1, \"\\n\")\n",
    "\n",
    "    UU2 = np.dot(WW2, YY1) + OO2\n",
    "    # print(\"\\nUU1=\", UU2, \"\\n\")\n",
    "    YY2 = f(UU2)\n",
    "    # print(\"YY1=\", YY2, \"\\n\")\n",
    "\n",
    "    return YY2\n",
    "\n",
    "\n",
    "    "
   ]
  },
  {
   "cell_type": "code",
   "execution_count": 341,
   "metadata": {},
   "outputs": [
    {
     "name": "stdout",
     "output_type": "stream",
     "text": [
      "1) Res=  [0.00594712]\n",
      "2) Res=  [0.99785487]\n",
      "3) Res=  [0.98704813]\n"
     ]
    }
   ],
   "source": [
    "XX1 = np.array([[1],\n",
    "               [-1],\n",
    "               [1]])\n",
    "\n",
    "XX2 = np.array([[1],\n",
    "               [1],\n",
    "               [-1]])\n",
    "\n",
    "XX3 = np.array([[1],\n",
    "               [-1],\n",
    "               [-1]])\n",
    "\n",
    "res1 = TestGirl(XX1)\n",
    "print(\"1) Res= \", res1)\n",
    "\n",
    "res2 = TestGirl(XX2)\n",
    "print(\"2) Res= \", res2)\n",
    "\n",
    "res3 = TestGirl(XX3)\n",
    "print(\"3) Res= \", res3)"
   ]
  },
  {
   "cell_type": "markdown",
   "metadata": {},
   "source": [
    "Обучение нейройнной сети"
   ]
  },
  {
   "cell_type": "code",
   "execution_count": 342,
   "metadata": {},
   "outputs": [
    {
     "name": "stdout",
     "output_type": "stream",
     "text": [
      "W1= [[ 0.07460177  1.72175023 -0.58244239]\n",
      " [ 1.12307649 -1.39134016 -1.61928501]]\n",
      "O1= [[-1.25760118]\n",
      " [-0.44960128]]\n",
      "W2= [[ 0.07460177  1.72175023 -0.58244239]\n",
      " [ 1.12307649 -1.39134016 -1.61928501]]\n",
      "O1= [[0.45577201]]\n"
     ]
    }
   ],
   "source": [
    "N1 = 3 # количество входов 1 слой\n",
    "M1 = 2 # количество выходов (нейронов) 1 слой\n",
    "\n",
    "N2 = M1 # количество входов 2 слой\n",
    "M2 = 1 # количество выходов (нейронов) 2 слой\n",
    "\n",
    "def f(u): # функция активации\n",
    "    return 1 / (1 + np.exp(-u))\n",
    "\n",
    "def df(u): # производная функции активации\n",
    "    return np.exp(-u) / ((1 + np.exp(-u))*(1 + np.exp(-u)))\n",
    "\n",
    "def f1(u): # функция активации первого слоя\n",
    "    return f(u)\n",
    "\n",
    "def f2(u): # функция активации второго слоя\n",
    "    return f(u)\n",
    "\n",
    "W1 = np.random.randn(M1, N1)\n",
    "print(\"W1=\", W1)\n",
    "O1 = np.random.randn(M1, 1)\n",
    "print(\"O1=\", O1)\n",
    "\n",
    "W2 = np.random.randn(M2, N2)\n",
    "print(\"W2=\", W1)\n",
    "O2 = np.random.randn(M2, 1)\n",
    "print(\"O1=\", O2)\n",
    "\n",
    "\n"
   ]
  },
  {
   "cell_type": "code",
   "execution_count": 343,
   "metadata": {},
   "outputs": [],
   "source": [
    "# Обучение сети\n",
    "ro = 0.5 # скорость обучения (from 0 to 1]"
   ]
  },
  {
   "cell_type": "markdown",
   "metadata": {},
   "source": [
    "Примеры обучения"
   ]
  },
  {
   "cell_type": "code",
   "execution_count": 344,
   "metadata": {},
   "outputs": [],
   "source": [
    "# перебор всех входных вариантов\n",
    "XX1 = np.array([[-1],   # квартира\n",
    "               [-1],    # красивый\n",
    "               [1]])    # Тяж. рок\n",
    "\n",
    "XX2 = np.array([[-1],\n",
    "               [-1],\n",
    "               [-1]])\n",
    "\n",
    "XX3 = np.array([[-1],\n",
    "               [1],\n",
    "               [1]])\n",
    "\n",
    "XX4 = np.array([[-1],\n",
    "               [1],\n",
    "               [-1]])\n",
    "\n",
    "XX5 = np.array([[1],\n",
    "               [-1],\n",
    "               [1]])\n",
    "\n",
    "XX6 = np.array([[1],\n",
    "               [-1],\n",
    "               [-1]])\n",
    "\n",
    "XX7 = np.array([[1],\n",
    "               [1],\n",
    "               [1]])\n",
    "\n",
    "XX8 = np.array([[1],\n",
    "               [1],\n",
    "               [-1]])\n",
    "\n",
    "# то, что нужно получить по итогу\n",
    "YY1 = np.array([0])\n",
    "YY2 = np.array([0])\n",
    "YY3 = np.array([1])\n",
    "YY4 = np.array([1])\n",
    "YY5 = np.array([1])\n",
    "YY6 = np.array([0])\n",
    "YY7 = np.array([1])\n",
    "YY8 = np.array([1])"
   ]
  },
  {
   "cell_type": "markdown",
   "metadata": {},
   "source": [
    "# Первая веха обучения\n",
    "### Обратное распространение ошибки"
   ]
  },
  {
   "cell_type": "code",
   "execution_count": 345,
   "metadata": {},
   "outputs": [
    {
     "name": "stdout",
     "output_type": "stream",
     "text": [
      "U1= [[-3.63639558]\n",
      " [-1.80062262]] \n",
      "\n",
      "Y1= [[0.02567079]\n",
      " [0.14177529]] \n",
      "\n",
      "U2= [[0.48742699]] \n",
      "\n",
      "Y2= [[0.61950011]] \n",
      "\n",
      "Размер ошибки:  [[-0.61950011]]\n",
      "Вектор градиента ошибки:  [[-0.14091678]]\n"
     ]
    }
   ],
   "source": [
    "Y_out = YY1\n",
    "X_in = XX1\n",
    "# расчёт ошибки по выходу сети - метод прямого распространения\n",
    "\n",
    "U1 = np.dot(W1,X_in) + O1\n",
    "print(\"U1=\", U1, \"\\n\")\n",
    "Y1 = f(U1)\n",
    "print(\"Y1=\", Y1, \"\\n\")\n",
    "U2 = np.dot(W2, Y1) + O2\n",
    "print(\"U2=\", U2, \"\\n\")\n",
    "Y2 = f(U2)\n",
    "print(\"Y2=\", Y2, \"\\n\")\n",
    "ErrSize = Y_out - Y2\n",
    "print(\"Размер ошибки: \", ErrSize)\n",
    "grad = ErrSize * df(Y2)\n",
    "print(\"Вектор градиента ошибки: \", grad)\n"
   ]
  },
  {
   "cell_type": "markdown",
   "metadata": {},
   "source": [
    "Коррекция весов слоя"
   ]
  },
  {
   "cell_type": "code",
   "execution_count": 347,
   "metadata": {},
   "outputs": [
    {
     "name": "stdout",
     "output_type": "stream",
     "text": [
      "delta_W2= [[-0.00180872 -0.00998926]]\n",
      "delta_O2= [[-0.07045839]]\n",
      "W2= [[0.25879943 0.15578219]]\n",
      "O2= [[0.31485523]]\n"
     ]
    }
   ],
   "source": [
    "delta_W2 = ro * grad * Y1.T\n",
    "print(\"delta_W2=\", delta_W2)\n",
    "\n",
    "delta_O2 = ro * grad\n",
    "print(\"delta_O2=\", delta_O2)\n",
    "\n",
    "W2 = W2 + delta_W2\n",
    "print(\"W2=\", W2)\n",
    "\n",
    "O2 = O2 + delta_O2\n",
    "print(\"O2=\", O2)\n"
   ]
  },
  {
   "cell_type": "code",
   "execution_count": 348,
   "metadata": {},
   "outputs": [
    {
     "name": "stdout",
     "output_type": "stream",
     "text": [
      "[[-0.03646918]\n",
      " [-0.02195233]]\n"
     ]
    }
   ],
   "source": [
    "# пересчёт ошибки на предыдущий слой\n",
    "\n",
    "err1 = W2.T * grad\n",
    "print(err1)"
   ]
  }
 ],
 "metadata": {
  "kernelspec": {
   "display_name": "Python 3",
   "language": "python",
   "name": "python3"
  },
  "language_info": {
   "codemirror_mode": {
    "name": "ipython",
    "version": 3
   },
   "file_extension": ".py",
   "mimetype": "text/x-python",
   "name": "python",
   "nbconvert_exporter": "python",
   "pygments_lexer": "ipython3",
   "version": "3.12.1"
  }
 },
 "nbformat": 4,
 "nbformat_minor": 2
}
