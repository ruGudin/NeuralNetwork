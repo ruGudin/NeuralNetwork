{
 "cells": [
  {
   "cell_type": "code",
   "execution_count": 18,
   "metadata": {},
   "outputs": [
    {
     "ename": "SyntaxError",
     "evalue": "invalid syntax (436268757.py, line 20)",
     "output_type": "error",
     "traceback": [
      "\u001b[1;36m  Cell \u001b[1;32mIn[18], line 20\u001b[1;36m\u001b[0m\n\u001b[1;33m    ZZ =\u001b[0m\n\u001b[1;37m         ^\u001b[0m\n\u001b[1;31mSyntaxError\u001b[0m\u001b[1;31m:\u001b[0m invalid syntax\n"
     ]
    }
   ],
   "source": [
    "import numpy as np\n",
    "import random as rand\n",
    "import scipy.linalg as lp\n",
    "\n",
    "def f(u):\n",
    "    return 1 / (1 + np.exp ^ -u)\n",
    "\n",
    "def f1(u):\n",
    "    return f(u)\n",
    "\n",
    "XX = np.array([0,1])\n",
    "WW1 = np.array([[1.0, 0.5], [-1.0, 2.0]])\n",
    "OO = np.array([1,1])\n",
    "\n",
    "print(\"XX=\", XX)\n",
    "print(\"WW1=\", WW1)\n",
    "print(\"OO=\", OO)\n",
    "\n",
    "\n",
    "ZZ = XX *\n",
    "print(\"ZZ=\", ZZ)\n",
    "\n",
    "print(\"YY=\", YY)\n",
    "\n",
    "\n"
   ]
  }
 ],
 "metadata": {
  "kernelspec": {
   "display_name": "Python 3",
   "language": "python",
   "name": "python3"
  },
  "language_info": {
   "codemirror_mode": {
    "name": "ipython",
    "version": 3
   },
   "file_extension": ".py",
   "mimetype": "text/x-python",
   "name": "python",
   "nbconvert_exporter": "python",
   "pygments_lexer": "ipython3",
   "version": "3.12.1"
  }
 },
 "nbformat": 4,
 "nbformat_minor": 2
}
