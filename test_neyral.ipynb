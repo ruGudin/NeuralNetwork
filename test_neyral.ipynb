{
 "cells": [
  {
   "cell_type": "code",
   "execution_count": 40,
   "metadata": {},
   "outputs": [],
   "source": [
    "import numpy as np\n",
    "import random as rand\n",
    "import scipy.linalg as lp"
   ]
  },
  {
   "cell_type": "code",
   "execution_count": 41,
   "metadata": {},
   "outputs": [],
   "source": [
    "def f(u):\n",
    "    return 1 / (1 + np.exp(-u))\n",
    "\n",
    "def f1(u):\n",
    "    return f(u)\n",
    "\n",
    "def Y(X, W, O, func):\n",
    "    return func(W@X+O)"
   ]
  },
  {
   "cell_type": "code",
   "execution_count": 42,
   "metadata": {},
   "outputs": [
    {
     "name": "stdout",
     "output_type": "stream",
     "text": [
      "XX= [[0]\n",
      " [1]] \n",
      "\n",
      "WW1= [[ 1.   0.5]\n",
      " [-1.   2. ]] \n",
      "\n",
      "WW2= [ 1.5 -1. ] \n",
      "\n",
      "OO1= [[1]\n",
      " [1]] \n",
      "\n",
      "OO2= [1] \n",
      "\n",
      "\n",
      "UU1= [[1.5]\n",
      " [3. ]] \n",
      "\n",
      "YY1= [[0.81757448]\n",
      " [0.95257413]] \n",
      "\n",
      "\n",
      "UU1= [1.27378759] \n",
      "\n",
      "YY1= [0.78139043] \n",
      "\n"
     ]
    }
   ],
   "source": [
    "XX = np.array([[0],\n",
    "               [1]])\n",
    "WW1 = np.array([[1.0, 0.5], \n",
    "                [-1.0, 2.0]])\n",
    "WW2 = np.array([1.5, -1])\n",
    "OO1 = np.array([[1],\n",
    "                [1]])\n",
    "OO2 = np.array([1])\n",
    "\n",
    "print(\"XX=\", XX, \"\\n\")\n",
    "print(\"WW1=\", WW1, \"\\n\")\n",
    "print(\"WW2=\", WW2, \"\\n\")\n",
    "print(\"OO1=\", OO1, \"\\n\")\n",
    "print(\"OO2=\", OO2, \"\\n\")\n",
    "\n",
    "UU1 = np.dot(WW1,XX) + OO1\n",
    "print(\"\\nUU1=\", UU1, \"\\n\")\n",
    "YY1 = f(UU1)\n",
    "print(\"YY1=\", YY1, \"\\n\")\n",
    "\n",
    "UU2 = np.dot(WW2, YY1) + OO2\n",
    "print(\"\\nUU1=\", UU2, \"\\n\")\n",
    "YY2 = f(UU2)\n",
    "print(\"YY1=\", YY2, \"\\n\")\n"
   ]
  },
  {
   "cell_type": "code",
   "execution_count": 45,
   "metadata": {},
   "outputs": [
    {
     "name": "stdout",
     "output_type": "stream",
     "text": [
      "[<function f at 0x7fbb96b0f380>, array([[0.53424118, 0.38422042],\n",
      "       [0.70716855, 0.18170619]]), array([[1.],\n",
      "       [1.]]), array([[1.],\n",
      "       [1.]]), array([[1.],\n",
      "       [1.]])]\n",
      "\n",
      "\n",
      "[<function f at 0x7fbb96b0f380>, array([[0.06663692, 0.65248997]]), array([[1.]]), array([[1.]]), array([[1.]])]\n",
      "\n",
      "\n"
     ]
    }
   ],
   "source": [
    "def Topology(InpCount, NeurCount, func): # Количество входов, список из количества нейронов в каждом слое (количество слоев --- длина списка), спискок функций для каждого слоя (пока одна функция)\n",
    "    #[{f1, W1, O1, X1, Y1}, {f2, W2, O2, X2, Y2}, ....]\n",
    "    topology = []\n",
    "    for i in range(len(NeurCount)):\n",
    "        WW = np.random.rand(NeurCount[i], InpCount)\n",
    "        OO = np.ones((NeurCount[i],1))\n",
    "        XX = np.ones((NeurCount[i],1))\n",
    "        YY = np.ones((NeurCount[i],1))\n",
    "        topology.append([func, WW, OO, XX, YY])\n",
    "    \n",
    "    return topology\n",
    "    \n",
    "    # print(OO)\n",
    "    # W = [] + [np.random.randn(i-1, i) for i in range(1, len(NeuronsCount))]\n",
    "    # print(W)\n",
    "    # O = [np.ones((NeuronsCount[)) for i in range(len(NeuronsCount))]\n",
    "\n",
    "res = Topology(2, [2,1], f)\n",
    "\n",
    "for i in range(len(res)):\n",
    "    print(res[i])\n",
    "    print(\"\\n\")\n",
    "\n",
    "    \n",
    "#Должна вернуть список кортежей вида [{f, W1, O1, Y1}, {f, W2, O2, Y2}, ....]\n",
    "# W - random -1 до 1\n",
    "# O - единицы\n",
    "# X, Y - забить нулями"
   ]
  }
 ],
 "metadata": {
  "kernelspec": {
   "display_name": "Python 3",
   "language": "python",
   "name": "python3"
  },
  "language_info": {
   "codemirror_mode": {
    "name": "ipython",
    "version": 3
   },
   "file_extension": ".py",
   "mimetype": "text/x-python",
   "name": "python",
   "nbconvert_exporter": "python",
   "pygments_lexer": "ipython3",
   "version": "3.12.5"
  }
 },
 "nbformat": 4,
 "nbformat_minor": 2
}
